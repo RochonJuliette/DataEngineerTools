{
 "cells": [
  {
   "cell_type": "markdown",
   "metadata": {},
   "source": [
    "#  Consignes\n",
    "\n",
    "## Description\n",
    "\n",
    "Ouvrir le fichier ks-projects-201801.csv, il recense environ 100 000 projets KickStarter. Intégrer les données directement avec L'API Python dans une base de données Mongo. \n",
    "\n",
    "Il conviendra de bien spécifier manuellement l'ID du document. Pensez aussi à bien formatter le type des données pour profiter des méthodes implémentées par Mongo. L'ensemble de données n'est pas forcément nécessaire, c'est à vous de créer votre modèle de données.\n",
    "\n",
    "## Questions\n",
    "\n",
    "- 1) Récupérer les 5 projets ayant reçu le plus de promesse de dons.\n",
    "- 2) Compter le nombre de projets ayant atteint leur but.\n",
    "- 3) Compter le nombre de projets pour chaque catégorie.\n",
    "- 4) Compter le nombre de projets français ayant été instanciés avant 2016.\n",
    "- 5) Récupérer les projets américains ayant demandé plus de 200 000 dollars.\n",
    "- 6) Compter le nombre de projet ayant \"Sport\" dans leur nom"
   ]
  },
  {
   "cell_type": "code",
   "execution_count": 107,
   "metadata": {},
   "outputs": [],
   "source": [
    "import pandas as pd\n",
    "import pymongo"
   ]
  },
  {
   "cell_type": "code",
   "execution_count": 108,
   "metadata": {},
   "outputs": [],
   "source": [
    "client = pymongo.MongoClient()\n",
    "database = client['exercices']\n",
    "collection = database['kickstarter']"
   ]
  },
  {
   "cell_type": "code",
   "execution_count": 109,
   "metadata": {},
   "outputs": [],
   "source": [
    "df_ks = pd.read_csv(\"./data/ks-projects-201801-sample.csv\")\n",
    "#df_ks.head()"
   ]
  },
  {
   "cell_type": "markdown",
   "metadata": {},
   "source": [
    "Ce warning intervient lorsque pandas n'arrive pas à inférer le type de données. Il est sympa il précise les colones 6,8,10,12. "
   ]
  },
  {
   "cell_type": "code",
   "execution_count": 110,
   "metadata": {},
   "outputs": [
    {
     "output_type": "execute_result",
     "data": {
      "text/plain": [
       "Index(['goal', 'pledged', 'backers', 'usd pledged'], dtype='object')"
      ]
     },
     "metadata": {},
     "execution_count": 110
    }
   ],
   "source": [
    "df_ks.columns[[6,8,10,12]]"
   ]
  },
  {
   "cell_type": "markdown",
   "metadata": {},
   "source": [
    "## Question 0"
   ]
  },
  {
   "cell_type": "markdown",
   "metadata": {},
   "source": [
    "### Netoyer les données"
   ]
  },
  {
   "cell_type": "code",
   "execution_count": 168,
   "metadata": {},
   "outputs": [
    {
     "output_type": "execute_result",
     "data": {
      "text/plain": [
       "                                                     name        category  \\\n",
       "149995  Scutes Headphones - A new way to listen to you...  Product Design   \n",
       "149996                               My Drunk @$$ Reviews       Webseries   \n",
       "149997          Freedom Planet - High Speed Platform Game     Video Games   \n",
       "149998                                      Clown vs Mime       Webseries   \n",
       "149999                            Striker's Cafe & Bakery     Food Trucks   \n",
       "\n",
       "       main_category currency    deadline   goal             launched  \\\n",
       "149995        Design      USD  2014-11-14  40000  2014-10-14 20:44:37   \n",
       "149996  Film & Video      USD  2012-05-18   1000  2012-04-18 04:42:47   \n",
       "149997         Games      USD  2013-02-15   2000  2013-01-16 00:53:32   \n",
       "149998  Film & Video      USD  2011-05-27   1000  2011-04-27 01:22:52   \n",
       "149999          Food      USD  2016-05-02  20000  2016-04-03 08:01:57   \n",
       "\n",
       "        pledged       state backers country  usd_pledged_real  \n",
       "149995     3664    canceled      43      US           3664.00  \n",
       "149996        0      failed       0      US              0.00  \n",
       "149997  25472.7  successful    1105      US          25472.69  \n",
       "149998       76      failed       3      US             76.00  \n",
       "149999       29      failed       3      US             29.00  "
      ],
      "text/html": "<div>\n<style scoped>\n    .dataframe tbody tr th:only-of-type {\n        vertical-align: middle;\n    }\n\n    .dataframe tbody tr th {\n        vertical-align: top;\n    }\n\n    .dataframe thead th {\n        text-align: right;\n    }\n</style>\n<table border=\"1\" class=\"dataframe\">\n  <thead>\n    <tr style=\"text-align: right;\">\n      <th></th>\n      <th>name</th>\n      <th>category</th>\n      <th>main_category</th>\n      <th>currency</th>\n      <th>deadline</th>\n      <th>goal</th>\n      <th>launched</th>\n      <th>pledged</th>\n      <th>state</th>\n      <th>backers</th>\n      <th>country</th>\n      <th>usd_pledged_real</th>\n    </tr>\n  </thead>\n  <tbody>\n    <tr>\n      <th>149995</th>\n      <td>Scutes Headphones - A new way to listen to you...</td>\n      <td>Product Design</td>\n      <td>Design</td>\n      <td>USD</td>\n      <td>2014-11-14</td>\n      <td>40000</td>\n      <td>2014-10-14 20:44:37</td>\n      <td>3664</td>\n      <td>canceled</td>\n      <td>43</td>\n      <td>US</td>\n      <td>3664.00</td>\n    </tr>\n    <tr>\n      <th>149996</th>\n      <td>My Drunk @$$ Reviews</td>\n      <td>Webseries</td>\n      <td>Film &amp; Video</td>\n      <td>USD</td>\n      <td>2012-05-18</td>\n      <td>1000</td>\n      <td>2012-04-18 04:42:47</td>\n      <td>0</td>\n      <td>failed</td>\n      <td>0</td>\n      <td>US</td>\n      <td>0.00</td>\n    </tr>\n    <tr>\n      <th>149997</th>\n      <td>Freedom Planet - High Speed Platform Game</td>\n      <td>Video Games</td>\n      <td>Games</td>\n      <td>USD</td>\n      <td>2013-02-15</td>\n      <td>2000</td>\n      <td>2013-01-16 00:53:32</td>\n      <td>25472.7</td>\n      <td>successful</td>\n      <td>1105</td>\n      <td>US</td>\n      <td>25472.69</td>\n    </tr>\n    <tr>\n      <th>149998</th>\n      <td>Clown vs Mime</td>\n      <td>Webseries</td>\n      <td>Film &amp; Video</td>\n      <td>USD</td>\n      <td>2011-05-27</td>\n      <td>1000</td>\n      <td>2011-04-27 01:22:52</td>\n      <td>76</td>\n      <td>failed</td>\n      <td>3</td>\n      <td>US</td>\n      <td>76.00</td>\n    </tr>\n    <tr>\n      <th>149999</th>\n      <td>Striker's Cafe &amp; Bakery</td>\n      <td>Food Trucks</td>\n      <td>Food</td>\n      <td>USD</td>\n      <td>2016-05-02</td>\n      <td>20000</td>\n      <td>2016-04-03 08:01:57</td>\n      <td>29</td>\n      <td>failed</td>\n      <td>3</td>\n      <td>US</td>\n      <td>29.00</td>\n    </tr>\n  </tbody>\n</table>\n</div>"
     },
     "metadata": {},
     "execution_count": 168
    }
   ],
   "source": [
    "#df_ks.isna().sum()\n",
    "#df_ks.head()\n",
    "df_ks = df_ks.drop(['ID', 'usd pledged'], axis = 1)\n",
    "df_ks.tail()"
   ]
  },
  {
   "cell_type": "markdown",
   "metadata": {
    "slideshow": {
     "slide_type": "slide"
    }
   },
   "source": [
    "### Importer les données"
   ]
  },
  {
   "cell_type": "code",
   "execution_count": 122,
   "metadata": {},
   "outputs": [],
   "source": [
    "collection.drop()"
   ]
  },
  {
   "cell_type": "code",
   "execution_count": 123,
   "metadata": {},
   "outputs": [
    {
     "output_type": "execute_result",
     "data": {
      "text/plain": [
       "<pymongo.results.InsertManyResult at 0x286fb2e0448>"
      ]
     },
     "metadata": {},
     "execution_count": 123
    }
   ],
   "source": [
    "collection.insert_many(df_ks.to_dict('records'))"
   ]
  },
  {
   "cell_type": "code",
   "execution_count": 170,
   "metadata": {},
   "outputs": [],
   "source": [
    "#database.collection_names()"
   ]
  },
  {
   "cell_type": "markdown",
   "metadata": {},
   "source": [
    "## Question 1  "
   ]
  },
  {
   "cell_type": "code",
   "execution_count": 148,
   "metadata": {},
   "outputs": [],
   "source": [
    "cur = collection.find().sort([(\"pledged\", -1)]).limit(5)\n",
    "#list(cur)"
   ]
  },
  {
   "cell_type": "markdown",
   "metadata": {},
   "source": [
    "## Question 2"
   ]
  },
  {
   "cell_type": "code",
   "execution_count": 130,
   "metadata": {},
   "outputs": [
    {
     "output_type": "stream",
     "name": "stdout",
     "text": [
      "53040\n"
     ]
    }
   ],
   "source": [
    "cur = collection.count({\"state\":\"successful\"})\n",
    "print(cur)"
   ]
  },
  {
   "cell_type": "code",
   "execution_count": 139,
   "metadata": {},
   "outputs": [
    {
     "output_type": "stream",
     "name": "stdout",
     "text": [
      "(150000, 14)\n"
     ]
    }
   ],
   "source": [
    "print(df_ks.shape)\n",
    "#Ce qui vérifie au moins la cohérence.... ou pas\n",
    "#Plus on exécute les cellules au dessus, plus le nombre de curseurs augmente"
   ]
  },
  {
   "cell_type": "markdown",
   "metadata": {},
   "source": [
    "## Question 3"
   ]
  },
  {
   "cell_type": "code",
   "execution_count": 146,
   "metadata": {},
   "outputs": [],
   "source": [
    "cur = database.kickstarter.aggregate([{\"$group\" : {\"_id\" : \"$category\", \"nombre dans categorie\" : {\"$sum\" : 1}}}])\n",
    "#list(cur)"
   ]
  },
  {
   "cell_type": "markdown",
   "metadata": {},
   "source": [
    "## Question 4"
   ]
  },
  {
   "cell_type": "code",
   "execution_count": 174,
   "metadata": {},
   "outputs": [
    {
     "output_type": "stream",
     "name": "stdout",
     "text": [
      "0\n"
     ]
    }
   ],
   "source": [
    "cur=collection.find({\"$and\":[{\"country\":\"FR\"}, {\"launched\":{\"$lt\":2016}}]})\n",
    "print(cur.count())"
   ]
  },
  {
   "cell_type": "markdown",
   "metadata": {},
   "source": [
    "## Question 5"
   ]
  },
  {
   "cell_type": "code",
   "execution_count": 157,
   "metadata": {},
   "outputs": [],
   "source": [
    "cur=collection.find({\"$and\":[{\"country\":\"US\"}, {\"usd_pledged_real\" : {\"$gte\" : 200000}}]})\n",
    "#list(cur)"
   ]
  },
  {
   "cell_type": "markdown",
   "metadata": {},
   "source": [
    "## Question 6 "
   ]
  },
  {
   "cell_type": "code",
   "execution_count": 172,
   "metadata": {},
   "outputs": [
    {
     "output_type": "stream",
     "name": "stdout",
     "text": [
      "0\n"
     ]
    }
   ],
   "source": [
    "cur = collection.find({\"name\":{\"$all\":[\"Sport\"]}})\n",
    "curcount = cur.count()\n",
    "print(curcount)"
   ]
  },
  {
   "cell_type": "code",
   "execution_count": 164,
   "metadata": {},
   "outputs": [],
   "source": [
    "##L'idée pourrait etre de diviser les names en strings, et de voir si les strings des noms contiendraient le mot \"Sport\""
   ]
  },
  {
   "cell_type": "code",
   "execution_count": null,
   "metadata": {},
   "outputs": [],
   "source": []
  }
 ],
 "metadata": {
  "kernelspec": {
   "display_name": "Python 3",
   "language": "python",
   "name": "python3"
  },
  "language_info": {
   "codemirror_mode": {
    "name": "ipython",
    "version": 3
   },
   "file_extension": ".py",
   "mimetype": "text/x-python",
   "name": "python",
   "nbconvert_exporter": "python",
   "pygments_lexer": "ipython3",
   "version": "3.7.6-final"
  }
 },
 "nbformat": 4,
 "nbformat_minor": 2
}