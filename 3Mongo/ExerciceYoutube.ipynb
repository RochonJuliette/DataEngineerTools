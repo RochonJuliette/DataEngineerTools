{
 "cells": [
  {
   "cell_type": "markdown",
   "metadata": {},
   "source": [
    "# Consignes\n",
    "\n",
    "Intégrer le fichier USvideos.csv qui représente un ensemble de 8000 vidéos Youtube. \n",
    "\n",
    "Merger le fichier US_category_id.json pour récupérer le nom des catégories. Il conviendra de bien spécifier l'ID du document.\n",
    "\n",
    "\n",
    "# Questions \n",
    "- 1) Récupérer toutes les vidéos de la chaîne Apple.\n",
    "- 2) Compter le nombre de catégories différentes\n",
    "- 3) Si vous ne l'avez pas déjà fait, découper les tags en listes et mettre à jour les tags de chacun des documents avec une requête update.\n",
    "- 4) Récupérer les vidéos les plus vues.\n",
    "- 5) Compter le nombre moyen de vues en fonction de la catégorie.\n",
    "- 6) Récupérer les chaines Youtube avec la plus grande moyenne de likes."
   ]
  },
  {
   "cell_type": "code",
   "execution_count": 33,
   "metadata": {},
   "outputs": [],
   "source": [
    "import pandas as pd\n",
    "import pymongo"
   ]
  },
  {
   "cell_type": "code",
   "execution_count": 34,
   "metadata": {},
   "outputs": [],
   "source": [
    "client = pymongo.MongoClient()\n",
    "database = client['exercices']\n",
    "collection = database['youtube']"
   ]
  },
  {
   "cell_type": "code",
   "execution_count": 35,
   "metadata": {},
   "outputs": [
    {
     "output_type": "execute_result",
     "data": {
      "text/plain": [
       "      video_id                                              title  \\\n",
       "0  XpVt6Z1Gjjo  1 YEAR OF VLOGGING -- HOW LOGAN PAUL CHANGED Y...   \n",
       "1  K4wEI5zhHB0            iPhone X — Introducing iPhone X — Apple   \n",
       "\n",
       "      channel_title  category_id  \\\n",
       "0  Logan Paul Vlogs           24   \n",
       "1             Apple           28   \n",
       "\n",
       "                                                tags    views   likes  \\\n",
       "0  logan paul vlog|logan paul|logan|paul|olympics...  4394029  320053   \n",
       "1  Apple|iPhone 10|iPhone Ten|iPhone|Portrait Lig...  7860119  185853   \n",
       "\n",
       "   dislikes  comment_total                                  thumbnail_link  \\\n",
       "0      5931          46245  https://i.ytimg.com/vi/XpVt6Z1Gjjo/default.jpg   \n",
       "1     26679              0  https://i.ytimg.com/vi/K4wEI5zhHB0/default.jpg   \n",
       "\n",
       "    date  \n",
       "0  13.09  \n",
       "1  13.09  "
      ],
      "text/html": "<div>\n<style scoped>\n    .dataframe tbody tr th:only-of-type {\n        vertical-align: middle;\n    }\n\n    .dataframe tbody tr th {\n        vertical-align: top;\n    }\n\n    .dataframe thead th {\n        text-align: right;\n    }\n</style>\n<table border=\"1\" class=\"dataframe\">\n  <thead>\n    <tr style=\"text-align: right;\">\n      <th></th>\n      <th>video_id</th>\n      <th>title</th>\n      <th>channel_title</th>\n      <th>category_id</th>\n      <th>tags</th>\n      <th>views</th>\n      <th>likes</th>\n      <th>dislikes</th>\n      <th>comment_total</th>\n      <th>thumbnail_link</th>\n      <th>date</th>\n    </tr>\n  </thead>\n  <tbody>\n    <tr>\n      <th>0</th>\n      <td>XpVt6Z1Gjjo</td>\n      <td>1 YEAR OF VLOGGING -- HOW LOGAN PAUL CHANGED Y...</td>\n      <td>Logan Paul Vlogs</td>\n      <td>24</td>\n      <td>logan paul vlog|logan paul|logan|paul|olympics...</td>\n      <td>4394029</td>\n      <td>320053</td>\n      <td>5931</td>\n      <td>46245</td>\n      <td>https://i.ytimg.com/vi/XpVt6Z1Gjjo/default.jpg</td>\n      <td>13.09</td>\n    </tr>\n    <tr>\n      <th>1</th>\n      <td>K4wEI5zhHB0</td>\n      <td>iPhone X — Introducing iPhone X — Apple</td>\n      <td>Apple</td>\n      <td>28</td>\n      <td>Apple|iPhone 10|iPhone Ten|iPhone|Portrait Lig...</td>\n      <td>7860119</td>\n      <td>185853</td>\n      <td>26679</td>\n      <td>0</td>\n      <td>https://i.ytimg.com/vi/K4wEI5zhHB0/default.jpg</td>\n      <td>13.09</td>\n    </tr>\n  </tbody>\n</table>\n</div>"
     },
     "metadata": {},
     "execution_count": 35
    }
   ],
   "source": [
    "df_youtube = pd.read_csv(\"./data/USvideos.csv\")\n",
    "df_youtube.head(2)"
   ]
  },
  {
   "cell_type": "markdown",
   "metadata": {},
   "source": [
    "## Question 0"
   ]
  },
  {
   "cell_type": "markdown",
   "metadata": {},
   "source": [
    "### Nettoyer les données"
   ]
  },
  {
   "cell_type": "code",
   "execution_count": 36,
   "metadata": {},
   "outputs": [
    {
     "output_type": "execute_result",
     "data": {
      "text/plain": [
       "                     kindUS_category  \\\n",
       "0  youtube#videoCategoryListResponse   \n",
       "1  youtube#videoCategoryListResponse   \n",
       "2  youtube#videoCategoryListResponse   \n",
       "3  youtube#videoCategoryListResponse   \n",
       "4  youtube#videoCategoryListResponse   \n",
       "\n",
       "                                                etag                   kind  \\\n",
       "0  \"m2yskBQFythfE4irbTIeOgYYfBU/S730Ilt-Fi-emsQJv...  youtube#videoCategory   \n",
       "1  \"m2yskBQFythfE4irbTIeOgYYfBU/S730Ilt-Fi-emsQJv...  youtube#videoCategory   \n",
       "2  \"m2yskBQFythfE4irbTIeOgYYfBU/S730Ilt-Fi-emsQJv...  youtube#videoCategory   \n",
       "3  \"m2yskBQFythfE4irbTIeOgYYfBU/S730Ilt-Fi-emsQJv...  youtube#videoCategory   \n",
       "4  \"m2yskBQFythfE4irbTIeOgYYfBU/S730Ilt-Fi-emsQJv...  youtube#videoCategory   \n",
       "\n",
       "                                                etag  id  \\\n",
       "0  \"m2yskBQFythfE4irbTIeOgYYfBU/Xy1mB4_yLrHy_BmKm...   1   \n",
       "1  \"m2yskBQFythfE4irbTIeOgYYfBU/UZ1oLIIz2dxIhO45Z...   2   \n",
       "2  \"m2yskBQFythfE4irbTIeOgYYfBU/nqRIq97-xe5XRZTxb...  10   \n",
       "3  \"m2yskBQFythfE4irbTIeOgYYfBU/HwXKamM1Q20q9BN-o...  15   \n",
       "4  \"m2yskBQFythfE4irbTIeOgYYfBU/9GQMSRjrZdHeb1OEM...  17   \n",
       "\n",
       "                                             snippet  \n",
       "0  {'channelId': 'UCBR8-60-B28hp2BmDPdntcQ', 'tit...  \n",
       "1  {'channelId': 'UCBR8-60-B28hp2BmDPdntcQ', 'tit...  \n",
       "2  {'channelId': 'UCBR8-60-B28hp2BmDPdntcQ', 'tit...  \n",
       "3  {'channelId': 'UCBR8-60-B28hp2BmDPdntcQ', 'tit...  \n",
       "4  {'channelId': 'UCBR8-60-B28hp2BmDPdntcQ', 'tit...  "
      ],
      "text/html": "<div>\n<style scoped>\n    .dataframe tbody tr th:only-of-type {\n        vertical-align: middle;\n    }\n\n    .dataframe tbody tr th {\n        vertical-align: top;\n    }\n\n    .dataframe thead th {\n        text-align: right;\n    }\n</style>\n<table border=\"1\" class=\"dataframe\">\n  <thead>\n    <tr style=\"text-align: right;\">\n      <th></th>\n      <th>kindUS_category</th>\n      <th>etag</th>\n      <th>kind</th>\n      <th>etag</th>\n      <th>id</th>\n      <th>snippet</th>\n    </tr>\n  </thead>\n  <tbody>\n    <tr>\n      <th>0</th>\n      <td>youtube#videoCategoryListResponse</td>\n      <td>\"m2yskBQFythfE4irbTIeOgYYfBU/S730Ilt-Fi-emsQJv...</td>\n      <td>youtube#videoCategory</td>\n      <td>\"m2yskBQFythfE4irbTIeOgYYfBU/Xy1mB4_yLrHy_BmKm...</td>\n      <td>1</td>\n      <td>{'channelId': 'UCBR8-60-B28hp2BmDPdntcQ', 'tit...</td>\n    </tr>\n    <tr>\n      <th>1</th>\n      <td>youtube#videoCategoryListResponse</td>\n      <td>\"m2yskBQFythfE4irbTIeOgYYfBU/S730Ilt-Fi-emsQJv...</td>\n      <td>youtube#videoCategory</td>\n      <td>\"m2yskBQFythfE4irbTIeOgYYfBU/UZ1oLIIz2dxIhO45Z...</td>\n      <td>2</td>\n      <td>{'channelId': 'UCBR8-60-B28hp2BmDPdntcQ', 'tit...</td>\n    </tr>\n    <tr>\n      <th>2</th>\n      <td>youtube#videoCategoryListResponse</td>\n      <td>\"m2yskBQFythfE4irbTIeOgYYfBU/S730Ilt-Fi-emsQJv...</td>\n      <td>youtube#videoCategory</td>\n      <td>\"m2yskBQFythfE4irbTIeOgYYfBU/nqRIq97-xe5XRZTxb...</td>\n      <td>10</td>\n      <td>{'channelId': 'UCBR8-60-B28hp2BmDPdntcQ', 'tit...</td>\n    </tr>\n    <tr>\n      <th>3</th>\n      <td>youtube#videoCategoryListResponse</td>\n      <td>\"m2yskBQFythfE4irbTIeOgYYfBU/S730Ilt-Fi-emsQJv...</td>\n      <td>youtube#videoCategory</td>\n      <td>\"m2yskBQFythfE4irbTIeOgYYfBU/HwXKamM1Q20q9BN-o...</td>\n      <td>15</td>\n      <td>{'channelId': 'UCBR8-60-B28hp2BmDPdntcQ', 'tit...</td>\n    </tr>\n    <tr>\n      <th>4</th>\n      <td>youtube#videoCategoryListResponse</td>\n      <td>\"m2yskBQFythfE4irbTIeOgYYfBU/S730Ilt-Fi-emsQJv...</td>\n      <td>youtube#videoCategory</td>\n      <td>\"m2yskBQFythfE4irbTIeOgYYfBU/9GQMSRjrZdHeb1OEM...</td>\n      <td>17</td>\n      <td>{'channelId': 'UCBR8-60-B28hp2BmDPdntcQ', 'tit...</td>\n    </tr>\n  </tbody>\n</table>\n</div>"
     },
     "metadata": {},
     "execution_count": 36
    }
   ],
   "source": [
    "US_category = pd.read_json(\"./data/US_category_id.json\")\n",
    "US_category=US_category.rename(columns = {'kind':'kindUS_category'})\n",
    "US_category1 = pd.concat([US_category.drop([\"items\"],axis=1),US_category[\"items\"].apply(pd.Series)], axis=1)\n",
    "US_category1.head()"
   ]
  },
  {
   "source": [
    "Les deux bases de données ont été mergées."
   ],
   "cell_type": "markdown",
   "metadata": {}
  },
  {
   "cell_type": "markdown",
   "metadata": {
    "slideshow": {
     "slide_type": "slide"
    }
   },
   "source": [
    "### Importer les données"
   ]
  },
  {
   "cell_type": "code",
   "execution_count": 37,
   "metadata": {},
   "outputs": [
    {
     "output_type": "execute_result",
     "data": {
      "text/plain": [
       "<pymongo.results.InsertManyResult at 0x29371b23208>"
      ]
     },
     "metadata": {},
     "execution_count": 37
    }
   ],
   "source": [
    "collection.drop()\n",
    "collection.insert_many(df_youtube.to_dict('records'))"
   ]
  },
  {
   "cell_type": "markdown",
   "metadata": {},
   "source": [
    "## Question 1  "
   ]
  },
  {
   "source": [
    "Nous devons récupérer les vidéos de la marque Apple. Nous utilisons `find()`."
   ],
   "cell_type": "markdown",
   "metadata": {}
  },
  {
   "cell_type": "code",
   "execution_count": 38,
   "metadata": {},
   "outputs": [
    {
     "output_type": "execute_result",
     "data": {
      "text/plain": [
       "[{'_id': ObjectId('5fce459a00a6bd21a9951f56'),\n",
       "  'video_id': 'K4wEI5zhHB0',\n",
       "  'title': 'iPhone X — Introducing iPhone X — Apple',\n",
       "  'channel_title': 'Apple',\n",
       "  'category_id': 28,\n",
       "  'tags': 'Apple|iPhone 10|iPhone Ten|iPhone|Portrait Lighting|A11 Bionic|augmented reality|emoji|animoji|Face ID|Apple Pay|camera|smartphone',\n",
       "  'views': 7860119,\n",
       "  'likes': 185853,\n",
       "  'dislikes': 26679,\n",
       "  'comment_total': 0,\n",
       "  'thumbnail_link': 'https://i.ytimg.com/vi/K4wEI5zhHB0/default.jpg',\n",
       "  'date': 13.09},\n",
       " {'_id': ObjectId('5fce459a00a6bd21a9952020'),\n",
       "  'video_id': 'K4wEI5zhHB0',\n",
       "  'title': 'iPhone X — Introducing iPhone X — Apple',\n",
       "  'channel_title': 'Apple',\n",
       "  'category_id': 28,\n",
       "  'tags': 'Apple|iPhone 10|iPhone Ten|iPhone|Portrait Lighting|A11 Bionic|augmented reality|emoji|animoji|Face ID|Apple Pay|camera|smartphone',\n",
       "  'views': 12200526,\n",
       "  'likes': 258842,\n",
       "  'dislikes': 44339,\n",
       "  'comment_total': 0,\n",
       "  'thumbnail_link': 'https://i.ytimg.com/vi/K4wEI5zhHB0/default.jpg',\n",
       "  'date': 14.09},\n",
       " {'_id': ObjectId('5fce459a00a6bd21a99520f8'),\n",
       "  'video_id': 'K4wEI5zhHB0',\n",
       "  'title': 'iPhone X — Introducing iPhone X — Apple',\n",
       "  'channel_title': 'Apple',\n",
       "  'category_id': 28,\n",
       "  'tags': 'Apple|iPhone 10|iPhone Ten|iPhone|Portrait Lighting|A11 Bionic|augmented reality|emoji|animoji|Face ID|Apple Pay|camera|smartphone',\n",
       "  'views': 15731493,\n",
       "  'likes': 321403,\n",
       "  'dislikes': 57528,\n",
       "  'comment_total': 0,\n",
       "  'thumbnail_link': 'https://i.ytimg.com/vi/K4wEI5zhHB0/default.jpg',\n",
       "  'date': 15.09},\n",
       " {'_id': ObjectId('5fce459a00a6bd21a99521f7'),\n",
       "  'video_id': 'K4wEI5zhHB0',\n",
       "  'title': 'iPhone X — Introducing iPhone X — Apple',\n",
       "  'channel_title': 'Apple',\n",
       "  'category_id': 28,\n",
       "  'tags': 'Apple|iPhone 10|iPhone Ten|iPhone|Portrait Lighting|A11 Bionic|augmented reality|emoji|animoji|Face ID|Apple Pay|camera|smartphone',\n",
       "  'views': 18082737,\n",
       "  'likes': 359392,\n",
       "  'dislikes': 64933,\n",
       "  'comment_total': 0,\n",
       "  'thumbnail_link': 'https://i.ytimg.com/vi/K4wEI5zhHB0/default.jpg',\n",
       "  'date': 16.09},\n",
       " {'_id': ObjectId('5fce459a00a6bd21a99522de'),\n",
       "  'video_id': 'K4wEI5zhHB0',\n",
       "  'title': 'iPhone X — Introducing iPhone X — Apple',\n",
       "  'channel_title': 'Apple',\n",
       "  'category_id': 28,\n",
       "  'tags': 'Apple|iPhone 10|iPhone Ten|iPhone|Portrait Lighting|A11 Bionic|augmented reality|emoji|animoji|Face ID|Apple Pay|camera|smartphone',\n",
       "  'views': 19707391,\n",
       "  'likes': 381919,\n",
       "  'dislikes': 69465,\n",
       "  'comment_total': 0,\n",
       "  'thumbnail_link': 'https://i.ytimg.com/vi/K4wEI5zhHB0/default.jpg',\n",
       "  'date': 17.09},\n",
       " {'_id': ObjectId('5fce459a00a6bd21a995237a'),\n",
       "  'video_id': 'A9k88sMyiJM',\n",
       "  'title': 'Apple Watch Series 3 + Apple Music — Roll — Apple',\n",
       "  'channel_title': 'Apple',\n",
       "  'category_id': 28,\n",
       "  'tags': 'Apple|airpods|apple watch|apple watch series 3|apple watch cellular|apple watch 4g|apple music|40 million songs on your wrist|apple skateboard ad|apple train station ad|apple roll ad|apple watch skateboard ad|apple watch train station ad|apple watch roll ad|airpods skateboard ad|airpods train station ad|airpods roll ad|apple music skateboard ad|apple music train station ad|apple music roll ad|misbehaving',\n",
       "  'views': 782543,\n",
       "  'likes': 14647,\n",
       "  'dislikes': 1489,\n",
       "  'comment_total': 0,\n",
       "  'thumbnail_link': 'https://i.ytimg.com/vi/A9k88sMyiJM/default.jpg',\n",
       "  'date': 18.09},\n",
       " {'_id': ObjectId('5fce459a00a6bd21a9952467'),\n",
       "  'video_id': 'A9k88sMyiJM',\n",
       "  'title': 'Apple Watch Series 3 + Apple Music — Roll — Apple',\n",
       "  'channel_title': 'Apple',\n",
       "  'category_id': 28,\n",
       "  'tags': 'Apple|airpods|apple watch|apple watch series 3|apple watch cellular|apple watch 4g|apple music|40 million songs on your wrist|apple skateboard ad|apple train station ad|apple roll ad|apple watch skateboard ad|apple watch train station ad|apple watch roll ad|airpods skateboard ad|airpods train station ad|airpods roll ad|apple music skateboard ad|apple music train station ad|apple music roll ad|misbehaving',\n",
       "  'views': 3987580,\n",
       "  'likes': 26021,\n",
       "  'dislikes': 8719,\n",
       "  'comment_total': 0,\n",
       "  'thumbnail_link': 'https://i.ytimg.com/vi/A9k88sMyiJM/default.jpg',\n",
       "  'date': 19.09},\n",
       " {'_id': ObjectId('5fce459a00a6bd21a9952557'),\n",
       "  'video_id': 'A9k88sMyiJM',\n",
       "  'title': 'Apple Watch Series 3 + Apple Music — Roll — Apple',\n",
       "  'channel_title': 'Apple',\n",
       "  'category_id': 28,\n",
       "  'tags': 'Apple|airpods|apple watch|apple watch series 3|apple watch cellular|apple watch 4g|apple music|40 million songs on your wrist|apple skateboard ad|apple train station ad|apple roll ad|apple watch skateboard ad|apple watch train station ad|apple watch roll ad|airpods skateboard ad|airpods train station ad|airpods roll ad|apple music skateboard ad|apple music train station ad|apple music roll ad|misbehaving',\n",
       "  'views': 4112187,\n",
       "  'likes': 26609,\n",
       "  'dislikes': 8982,\n",
       "  'comment_total': 0,\n",
       "  'thumbnail_link': 'https://i.ytimg.com/vi/A9k88sMyiJM/default.jpg',\n",
       "  'date': 20.09},\n",
       " {'_id': ObjectId('5fce459a00a6bd21a9952f21'),\n",
       "  'video_id': 'REZl-ANYKKY',\n",
       "  'title': 'iPhone 8 Plus — Portraits of Her  — Apple',\n",
       "  'channel_title': 'Apple',\n",
       "  'category_id': 28,\n",
       "  'tags': 'Apple|new|iPhone|iPhone 8|iPhone 8 Plus|iOS 11|4.7-inch|5.5-inch|Portrait Lighting|Shot on iPhone|camera|iphonography|smartphone|This Strange Effect|The Shacks',\n",
       "  'views': 117564,\n",
       "  'likes': 1240,\n",
       "  'dislikes': 459,\n",
       "  'comment_total': 0,\n",
       "  'thumbnail_link': 'https://i.ytimg.com/vi/REZl-ANYKKY/default.jpg',\n",
       "  'date': 3.1},\n",
       " {'_id': ObjectId('5fce459a00a6bd21a9953012'),\n",
       "  'video_id': 'REZl-ANYKKY',\n",
       "  'title': 'iPhone 8 Plus — Portraits of Her  — Apple',\n",
       "  'channel_title': 'Apple',\n",
       "  'category_id': 28,\n",
       "  'tags': 'Apple|new|iPhone|iPhone 8|iPhone 8 Plus|iOS 11|4.7-inch|5.5-inch|Portrait Lighting|Shot on iPhone|camera|iphonography|smartphone|This Strange Effect|The Shacks',\n",
       "  'views': 163024,\n",
       "  'likes': 1538,\n",
       "  'dislikes': 539,\n",
       "  'comment_total': 0,\n",
       "  'thumbnail_link': 'https://i.ytimg.com/vi/REZl-ANYKKY/default.jpg',\n",
       "  'date': 4.1},\n",
       " {'_id': ObjectId('5fce459a00a6bd21a9953110'),\n",
       "  'video_id': 'REZl-ANYKKY',\n",
       "  'title': 'iPhone 8 Plus — Portraits of Her  — Apple',\n",
       "  'channel_title': 'Apple',\n",
       "  'category_id': 28,\n",
       "  'tags': 'Apple|new|iPhone|iPhone 8|iPhone 8 Plus|iOS 11|4.7-inch|5.5-inch|Portrait Lighting|Shot on iPhone|camera|iphonography|smartphone|This Strange Effect|The Shacks',\n",
       "  'views': 183325,\n",
       "  'likes': 1700,\n",
       "  'dislikes': 570,\n",
       "  'comment_total': 0,\n",
       "  'thumbnail_link': 'https://i.ytimg.com/vi/REZl-ANYKKY/default.jpg',\n",
       "  'date': 5.1}]"
      ]
     },
     "metadata": {},
     "execution_count": 38
    }
   ],
   "source": [
    "cur = collection.find({\"channel_title\":\"Apple\"})\n",
    "list(cur)"
   ]
  },
  {
   "cell_type": "markdown",
   "metadata": {},
   "source": [
    "## Question 2"
   ]
  },
  {
   "source": [
    "Nous cherchons le nombre de catégories différentes. En partant du principe que chaque catégorie à son propre `category_id`, on trouve alors le résultat suivant."
   ],
   "cell_type": "markdown",
   "metadata": {}
  },
  {
   "cell_type": "code",
   "execution_count": 39,
   "metadata": {},
   "outputs": [
    {
     "output_type": "execute_result",
     "data": {
      "text/plain": [
       "16"
      ]
     },
     "metadata": {},
     "execution_count": 39
    }
   ],
   "source": [
    "len(database.youtube.distinct('category_id'))"
   ]
  },
  {
   "cell_type": "markdown",
   "metadata": {},
   "source": [
    "## Question 3"
   ]
  },
  {
   "source": [
    "Il faudrait utiliser `update` pour mettre à jour chacun des tags. Mais avant, nous devons découper les tags en listes."
   ],
   "cell_type": "markdown",
   "metadata": {}
  },
  {
   "cell_type": "code",
   "execution_count": 48,
   "metadata": {},
   "outputs": [],
   "source": [
    "df_youtube['tags']=df_youtube['tags'].to_list()\n",
    "\n",
    "result = collection.update_many({\"tags\":\"|\"}, {\"$set\":{\"tags\":True}})"
   ]
  },
  {
   "cell_type": "markdown",
   "metadata": {},
   "source": [
    "## Question 4"
   ]
  },
  {
   "source": [
    "Nous récupérons les 10 vidéos les plus vues. Pour ce faire, il a été question de trier par ordre décroissant les vidéos en fonction de leur nombre de vues."
   ],
   "cell_type": "markdown",
   "metadata": {}
  },
  {
   "cell_type": "code",
   "execution_count": 49,
   "metadata": {},
   "outputs": [
    {
     "output_type": "execute_result",
     "data": {
      "text/plain": [
       "[{'_id': ObjectId('5fce459a00a6bd21a99526c8'),\n",
       "  'video_id': 'MBdVXkSdhwU',\n",
       "  'title': \"BTS (방탄소년단) 'DNA' Official MV\",\n",
       "  'channel_title': 'ibighit',\n",
       "  'category_id': 10,\n",
       "  'tags': 'BIGHIT|빅히트|방탄소년단|BTS|BANGTAN|방탄',\n",
       "  'views': 41500672,\n",
       "  'likes': 2010366,\n",
       "  'dislikes': 78076,\n",
       "  'comment_total': 736179,\n",
       "  'thumbnail_link': 'https://i.ytimg.com/vi/MBdVXkSdhwU/default.jpg',\n",
       "  'date': 22.09},\n",
       " {'_id': ObjectId('5fce459a00a6bd21a99525f3'),\n",
       "  'video_id': 'MBdVXkSdhwU',\n",
       "  'title': \"BTS (방탄소년단) 'DNA' Official MV\",\n",
       "  'channel_title': 'ibighit',\n",
       "  'category_id': 10,\n",
       "  'tags': 'BIGHIT|빅히트|방탄소년단|BTS|BANGTAN|방탄',\n",
       "  'views': 38013692,\n",
       "  'likes': 1950475,\n",
       "  'dislikes': 75294,\n",
       "  'comment_total': 713293,\n",
       "  'thumbnail_link': 'https://i.ytimg.com/vi/MBdVXkSdhwU/default.jpg',\n",
       "  'date': 21.09},\n",
       " {'_id': ObjectId('5fce459a00a6bd21a9952006'),\n",
       "  'video_id': 'tt2k8PGm-TI',\n",
       "  'title': 'ZAYN - Dusk Till Dawn ft. Sia',\n",
       "  'channel_title': 'ZaynVEVO',\n",
       "  'category_id': 10,\n",
       "  'tags': 'Dusk Till Dawn|Pop|RCA Records Label|ZAYN feat. Sia',\n",
       "  'views': 36323498,\n",
       "  'likes': 1431683,\n",
       "  'dislikes': 28049,\n",
       "  'comment_total': 100661,\n",
       "  'thumbnail_link': 'https://i.ytimg.com/vi/tt2k8PGm-TI/default.jpg',\n",
       "  'date': 13.09},\n",
       " {'_id': ObjectId('5fce459a00a6bd21a9953b34'),\n",
       "  'video_id': 'LunHybOKIjU',\n",
       "  'title': 'Eminem Rips Donald Trump In BET Hip Hop Awards Freestyle Cypher',\n",
       "  'channel_title': 'BETNetworks',\n",
       "  'category_id': 24,\n",
       "  'tags': 'BET|BET Networks|BET Music|Black Entertainment Television|eminem|freestyle|full|hip hop awards|hip hop awards 2017|bet hip hop awards|donald trump|potus|full freestyle|EMINEM TRUMP|TRUMP TWITTER|trump tweet|trump nfl|eminem bet cypher|bet cypher|eminem freestyle|8 mile|eminem new album|trump diss|eminem trump diss',\n",
       "  'views': 33191594,\n",
       "  'likes': 982842,\n",
       "  'dislikes': 184310,\n",
       "  'comment_total': 337603,\n",
       "  'thumbnail_link': 'https://i.ytimg.com/vi/LunHybOKIjU/default.jpg',\n",
       "  'date': 18.1},\n",
       " {'_id': ObjectId('5fce459a00a6bd21a9953a5a'),\n",
       "  'video_id': 'LunHybOKIjU',\n",
       "  'title': 'Eminem Rips Donald Trump In BET Hip Hop Awards Freestyle Cypher',\n",
       "  'channel_title': 'BETNetworks',\n",
       "  'category_id': 24,\n",
       "  'tags': 'BET|BET Networks|BET Music|Black Entertainment Television|eminem|freestyle|full|hip hop awards|hip hop awards 2017|bet hip hop awards|donald trump|potus|full freestyle|EMINEM TRUMP|TRUMP TWITTER|trump tweet|trump nfl|eminem bet cypher|bet cypher|eminem freestyle|8 mile|eminem new album|trump diss|eminem trump diss',\n",
       "  'views': 32512343,\n",
       "  'likes': 968719,\n",
       "  'dislikes': 180427,\n",
       "  'comment_total': 332396,\n",
       "  'thumbnail_link': 'https://i.ytimg.com/vi/LunHybOKIjU/default.jpg',\n",
       "  'date': 17.1},\n",
       " {'_id': ObjectId('5fce459a00a6bd21a9952720'),\n",
       "  'video_id': 'SHq2qrFUlGY',\n",
       "  'title': 'Shakira - Perro Fiel (Official Video) ft. Nicky Jam',\n",
       "  'channel_title': 'shakiraVEVO',\n",
       "  'category_id': 10,\n",
       "  'tags': 'Shakira ft. Nicky Jam|Shakira ft. Nicky Jam Music|Shakira ft. Nicky Jam Official Video|Shakira ft. Nicky Jam Video|Shakira ft. Nicky Jam Video Oficial|Perro Fiel Official Video|Official Video|Perro Fiel Single|Single|Shakira ft. Nicky Jam New Single|Shakira ft. Nicky Jam Single|Shakira ft. Nicky Jam Song|Perro Fiel new song|Perro Fiel nueva canción|Shakira ft. Nicky Jam nuevo sencillo|Shakira ft. Nicky Jam Perro Fiel|Latin Pop',\n",
       "  'views': 32136948,\n",
       "  'likes': 578266,\n",
       "  'dislikes': 43475,\n",
       "  'comment_total': 40071,\n",
       "  'thumbnail_link': 'https://i.ytimg.com/vi/SHq2qrFUlGY/default.jpg',\n",
       "  'date': 22.09},\n",
       " {'_id': ObjectId('5fce459a00a6bd21a9953965'),\n",
       "  'video_id': 'LunHybOKIjU',\n",
       "  'title': 'Eminem Rips Donald Trump In BET Hip Hop Awards Freestyle Cypher',\n",
       "  'channel_title': 'BETNetworks',\n",
       "  'category_id': 24,\n",
       "  'tags': 'BET|BET Networks|BET Music|Black Entertainment Television|eminem|freestyle|full|hip hop awards|hip hop awards 2017|bet hip hop awards|donald trump|potus|full freestyle|EMINEM TRUMP|TRUMP TWITTER|trump tweet|trump nfl|eminem bet cypher|bet cypher|eminem freestyle|8 mile|eminem new album|trump diss|eminem trump diss',\n",
       "  'views': 31636010,\n",
       "  'likes': 950353,\n",
       "  'dislikes': 175483,\n",
       "  'comment_total': 327345,\n",
       "  'thumbnail_link': 'https://i.ytimg.com/vi/LunHybOKIjU/default.jpg',\n",
       "  'date': 16.1},\n",
       " {'_id': ObjectId('5fce459a00a6bd21a99524f5'),\n",
       "  'video_id': 'MBdVXkSdhwU',\n",
       "  'title': \"BTS (방탄소년단) 'DNA' Official MV\",\n",
       "  'channel_title': 'ibighit',\n",
       "  'category_id': 10,\n",
       "  'tags': 'BIGHIT|빅히트|방탄소년단|BTS|BANGTAN|방탄',\n",
       "  'views': 30424471,\n",
       "  'likes': 1762428,\n",
       "  'dislikes': 63990,\n",
       "  'comment_total': 582624,\n",
       "  'thumbnail_link': 'https://i.ytimg.com/vi/MBdVXkSdhwU/default.jpg',\n",
       "  'date': 20.09},\n",
       " {'_id': ObjectId('5fce459a00a6bd21a9953874'),\n",
       "  'video_id': 'LunHybOKIjU',\n",
       "  'title': 'Eminem Rips Donald Trump In BET Hip Hop Awards Freestyle Cypher',\n",
       "  'channel_title': 'BETNetworks',\n",
       "  'category_id': 24,\n",
       "  'tags': 'BET|BET Networks|BET Music|Black Entertainment Television|eminem|freestyle|full|hip hop awards|hip hop awards 2017|bet hip hop awards|donald trump|potus|full freestyle|EMINEM TRUMP|TRUMP TWITTER|trump tweet|trump nfl|eminem bet cypher|bet cypher|eminem freestyle|8 mile|eminem new album|trump diss|eminem trump diss',\n",
       "  'views': 30224787,\n",
       "  'likes': 916296,\n",
       "  'dislikes': 166986,\n",
       "  'comment_total': 314704,\n",
       "  'thumbnail_link': 'https://i.ytimg.com/vi/LunHybOKIjU/default.jpg',\n",
       "  'date': 15.1},\n",
       " {'_id': ObjectId('5fce459a00a6bd21a9953791'),\n",
       "  'video_id': 'LunHybOKIjU',\n",
       "  'title': 'Eminem Rips Donald Trump In BET Hip Hop Awards Freestyle Cypher',\n",
       "  'channel_title': 'BETNetworks',\n",
       "  'category_id': 24,\n",
       "  'tags': 'BET|BET Networks|BET Music|Black Entertainment Television|eminem|freestyle|full|hip hop awards|hip hop awards 2017|bet hip hop awards|donald trump|potus|full freestyle|EMINEM TRUMP|TRUMP TWITTER|trump tweet|trump nfl|eminem bet cypher|bet cypher|eminem freestyle|8 mile|eminem new album|trump diss|eminem trump diss',\n",
       "  'views': 28212358,\n",
       "  'likes': 870122,\n",
       "  'dislikes': 153018,\n",
       "  'comment_total': 296958,\n",
       "  'thumbnail_link': 'https://i.ytimg.com/vi/LunHybOKIjU/default.jpg',\n",
       "  'date': 14.1}]"
      ]
     },
     "metadata": {},
     "execution_count": 49
    }
   ],
   "source": [
    "cur = collection.find().sort([(\"views\", -1)]).limit(10)\n",
    "list(cur)"
   ]
  },
  {
   "cell_type": "markdown",
   "metadata": {},
   "source": [
    "## Question 5"
   ]
  },
  {
   "source": [
    "Nous voulons compter le nombre moyen de vues en fonction de la catégorie. Pour ce faire, on utilise en effet une fonction d'aggrégation."
   ],
   "cell_type": "markdown",
   "metadata": {}
  },
  {
   "cell_type": "code",
   "execution_count": 51,
   "metadata": {},
   "outputs": [
    {
     "output_type": "execute_result",
     "data": {
      "text/plain": [
       "[{'_id': 17, 'nombre dans categorie': 728434.3243902439},\n",
       " {'_id': 26, 'nombre dans categorie': 537665.1806674339},\n",
       " {'_id': 29, 'nombre dans categorie': 1110334.2142857143},\n",
       " {'_id': 10, 'nombre dans categorie': 1176553.612},\n",
       " {'_id': 25, 'nombre dans categorie': 540955.5569823436},\n",
       " {'_id': 1, 'nombre dans categorie': 1039472.6560846561},\n",
       " {'_id': 27, 'nombre dans categorie': 547582.4700598803},\n",
       " {'_id': 22, 'nombre dans categorie': 971532.7573696146},\n",
       " {'_id': 20, 'nombre dans categorie': 681081.8170731707},\n",
       " {'_id': 43, 'nombre dans categorie': 8492.5},\n",
       " {'_id': 2, 'nombre dans categorie': 607693.8706896552},\n",
       " {'_id': 28, 'nombre dans categorie': 924730.548828125},\n",
       " {'_id': 23, 'nombre dans categorie': 1240073.294039735},\n",
       " {'_id': 19, 'nombre dans categorie': 464041.0833333333},\n",
       " {'_id': 24, 'nombre dans categorie': 1154868.4397251718},\n",
       " {'_id': 15, 'nombre dans categorie': 651404.3879310344}]"
      ]
     },
     "metadata": {},
     "execution_count": 51
    }
   ],
   "source": [
    "cur = collection.aggregate([{\"$group\" : {\"_id\" : \"$category_id\", \"nombre dans categorie\" : {\"$avg\" : \"$views\"}}}])\n",
    "list(cur)"
   ]
  },
  {
   "cell_type": "markdown",
   "metadata": {},
   "source": [
    "## Question 6 "
   ]
  },
  {
   "source": [
    "Il est ici question de récupérer les 10 chaines Youtube avec la plus grande moyenne de likes. Pour ce faire, on a trié par ordre décroissant en fonction du nombre de likes.\n",
    "\n",
    "On réalise ensuite une aggrégation."
   ],
   "cell_type": "markdown",
   "metadata": {}
  },
  {
   "cell_type": "code",
   "execution_count": 52,
   "metadata": {},
   "outputs": [
    {
     "output_type": "execute_result",
     "data": {
      "text/plain": [
       "[{'_id': ObjectId('5fce459a00a6bd21a99526c8'),\n",
       "  'video_id': 'MBdVXkSdhwU',\n",
       "  'title': \"BTS (방탄소년단) 'DNA' Official MV\",\n",
       "  'channel_title': 'ibighit',\n",
       "  'category_id': 10,\n",
       "  'tags': 'BIGHIT|빅히트|방탄소년단|BTS|BANGTAN|방탄',\n",
       "  'views': 41500672,\n",
       "  'likes': 2010366,\n",
       "  'dislikes': 78076,\n",
       "  'comment_total': 736179,\n",
       "  'thumbnail_link': 'https://i.ytimg.com/vi/MBdVXkSdhwU/default.jpg',\n",
       "  'date': 22.09},\n",
       " {'_id': ObjectId('5fce459a00a6bd21a99525f3'),\n",
       "  'video_id': 'MBdVXkSdhwU',\n",
       "  'title': \"BTS (방탄소년단) 'DNA' Official MV\",\n",
       "  'channel_title': 'ibighit',\n",
       "  'category_id': 10,\n",
       "  'tags': 'BIGHIT|빅히트|방탄소년단|BTS|BANGTAN|방탄',\n",
       "  'views': 38013692,\n",
       "  'likes': 1950475,\n",
       "  'dislikes': 75294,\n",
       "  'comment_total': 713293,\n",
       "  'thumbnail_link': 'https://i.ytimg.com/vi/MBdVXkSdhwU/default.jpg',\n",
       "  'date': 21.09},\n",
       " {'_id': ObjectId('5fce459a00a6bd21a99524f5'),\n",
       "  'video_id': 'MBdVXkSdhwU',\n",
       "  'title': \"BTS (방탄소년단) 'DNA' Official MV\",\n",
       "  'channel_title': 'ibighit',\n",
       "  'category_id': 10,\n",
       "  'tags': 'BIGHIT|빅히트|방탄소년단|BTS|BANGTAN|방탄',\n",
       "  'views': 30424471,\n",
       "  'likes': 1762428,\n",
       "  'dislikes': 63990,\n",
       "  'comment_total': 582624,\n",
       "  'thumbnail_link': 'https://i.ytimg.com/vi/MBdVXkSdhwU/default.jpg',\n",
       "  'date': 20.09},\n",
       " {'_id': ObjectId('5fce459a00a6bd21a9952408'),\n",
       "  'video_id': 'MBdVXkSdhwU',\n",
       "  'title': \"BTS (방탄소년단) 'DNA' Official MV\",\n",
       "  'channel_title': 'ibighit',\n",
       "  'category_id': 10,\n",
       "  'tags': 'BIGHIT|빅히트|방탄소년단|BTS|BANGTAN|방탄',\n",
       "  'views': 20565649,\n",
       "  'likes': 1478119,\n",
       "  'dislikes': 46477,\n",
       "  'comment_total': 501435,\n",
       "  'thumbnail_link': 'https://i.ytimg.com/vi/MBdVXkSdhwU/default.jpg',\n",
       "  'date': 19.09},\n",
       " {'_id': ObjectId('5fce459a00a6bd21a9952006'),\n",
       "  'video_id': 'tt2k8PGm-TI',\n",
       "  'title': 'ZAYN - Dusk Till Dawn ft. Sia',\n",
       "  'channel_title': 'ZaynVEVO',\n",
       "  'category_id': 10,\n",
       "  'tags': 'Dusk Till Dawn|Pop|RCA Records Label|ZAYN feat. Sia',\n",
       "  'views': 36323498,\n",
       "  'likes': 1431683,\n",
       "  'dislikes': 28049,\n",
       "  'comment_total': 100661,\n",
       "  'thumbnail_link': 'https://i.ytimg.com/vi/tt2k8PGm-TI/default.jpg',\n",
       "  'date': 13.09},\n",
       " {'_id': ObjectId('5fce459a00a6bd21a9953e70'),\n",
       "  'video_id': '3y5A4paFOb4',\n",
       "  'title': 'Logan Paul - Outta My Hair [Official Music Video]',\n",
       "  'channel_title': 'Logan Paul Vlogs',\n",
       "  'category_id': 24,\n",
       "  'tags': 'logan paul vlog|logan paul|logan|paul|olympics|logan paul youtube|vlog|daily|comedy|hollywood|parrot|maverick|bird|maverick clothes|logan paul song|out of my hair|outa my hair|out of my hair song|logan paul music|bella thorne|logan paul bella thorne|bella thorne song|bella thorne hair|hair song|out of hair|out of hair song|music video|music videos|bella thorne music',\n",
       "  'views': 18809766,\n",
       "  'likes': 1075133,\n",
       "  'dislikes': 107386,\n",
       "  'comment_total': 143156,\n",
       "  'thumbnail_link': 'https://i.ytimg.com/vi/3y5A4paFOb4/default.jpg',\n",
       "  'date': 22.1},\n",
       " {'_id': ObjectId('5fce459a00a6bd21a9952397'),\n",
       "  'video_id': 'FSOxXsYVJMQ',\n",
       "  'title': \"BTS (방탄소년단) 'DNA' Official Teaser 1\",\n",
       "  'channel_title': 'ibighit',\n",
       "  'category_id': 10,\n",
       "  'tags': 'BIGHIT|빅히트|방탄소년단|BTS|BANGTAN|방탄',\n",
       "  'views': 15035822,\n",
       "  'likes': 1056548,\n",
       "  'dislikes': 12656,\n",
       "  'comment_total': 161642,\n",
       "  'thumbnail_link': 'https://i.ytimg.com/vi/FSOxXsYVJMQ/default.jpg',\n",
       "  'date': 18.09},\n",
       " {'_id': ObjectId('5fce459a00a6bd21a9953d91'),\n",
       "  'video_id': '3y5A4paFOb4',\n",
       "  'title': 'Logan Paul - Outta My Hair [Official Music Video]',\n",
       "  'channel_title': 'Logan Paul Vlogs',\n",
       "  'category_id': 24,\n",
       "  'tags': 'logan paul vlog|logan paul|logan|paul|olympics|logan paul youtube|vlog|daily|comedy|hollywood|parrot|maverick|bird|maverick clothes|logan paul song|out of my hair|outa my hair|out of my hair song|logan paul music|bella thorne|logan paul bella thorne|bella thorne song|bella thorne hair|hair song|out of hair|out of hair song|music video|music videos|bella thorne music',\n",
       "  'views': 16919441,\n",
       "  'likes': 1050920,\n",
       "  'dislikes': 102569,\n",
       "  'comment_total': 140553,\n",
       "  'thumbnail_link': 'https://i.ytimg.com/vi/3y5A4paFOb4/default.jpg',\n",
       "  'date': 21.1},\n",
       " {'_id': ObjectId('5fce459a00a6bd21a9953c9b'),\n",
       "  'video_id': '3y5A4paFOb4',\n",
       "  'title': 'Logan Paul - Outta My Hair [Official Music Video]',\n",
       "  'channel_title': 'Logan Paul Vlogs',\n",
       "  'category_id': 24,\n",
       "  'tags': 'logan paul vlog|logan paul|logan|paul|olympics|logan paul youtube|vlog|daily|comedy|hollywood|parrot|maverick|bird|maverick clothes|logan paul song|out of my hair|outa my hair|out of my hair song|logan paul music|bella thorne|logan paul bella thorne|bella thorne song|bella thorne hair|hair song|out of hair|out of hair song|music video|music videos|bella thorne music',\n",
       "  'views': 15144244,\n",
       "  'likes': 1021503,\n",
       "  'dislikes': 97164,\n",
       "  'comment_total': 137426,\n",
       "  'thumbnail_link': 'https://i.ytimg.com/vi/3y5A4paFOb4/default.jpg',\n",
       "  'date': 20.1},\n",
       " {'_id': ObjectId('5fce459a00a6bd21a99522b9'),\n",
       "  'video_id': 'FSOxXsYVJMQ',\n",
       "  'title': \"BTS (방탄소년단) 'DNA' Official Teaser 1\",\n",
       "  'channel_title': 'ibighit',\n",
       "  'category_id': 10,\n",
       "  'tags': 'BIGHIT|빅히트|방탄소년단|BTS|BANGTAN|방탄',\n",
       "  'views': 13501685,\n",
       "  'likes': 1013883,\n",
       "  'dislikes': 11581,\n",
       "  'comment_total': 157635,\n",
       "  'thumbnail_link': 'https://i.ytimg.com/vi/FSOxXsYVJMQ/default.jpg',\n",
       "  'date': 17.09}]"
      ]
     },
     "metadata": {},
     "execution_count": 52
    }
   ],
   "source": [
    "cur = collection.find().sort([(\"likes\", -1)]).limit(10)\n",
    "cur2 = collection.aggregate([{\"$group\" : {\"_id\" : \"$channel_title\", \"nombre moyen de likes\" : {\"$avg\" : \"$likes\"}}}])\n",
    "list(cur)"
   ]
  }
 ],
 "metadata": {
  "kernelspec": {
   "display_name": "Python 3",
   "language": "python",
   "name": "python3"
  },
  "language_info": {
   "codemirror_mode": {
    "name": "ipython",
    "version": 3
   },
   "file_extension": ".py",
   "mimetype": "text/x-python",
   "name": "python",
   "nbconvert_exporter": "python",
   "pygments_lexer": "ipython3",
   "version": "3.7.6-final"
  }
 },
 "nbformat": 4,
 "nbformat_minor": 2
}